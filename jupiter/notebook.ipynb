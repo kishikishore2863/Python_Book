{
 "cells": [
  {
   "cell_type": "code",
   "execution_count": null,
   "id": "d320bffb",
   "metadata": {},
   "outputs": [
    {
     "name": "stdout",
     "output_type": "stream",
     "text": [
      "['kishikishore', 'is', 'a', 'worst', 'boy']\n"
     ]
    }
   ],
   "source": [
    "s = \"kishikishore is a worst boy\"\n",
    "t=s.split()\n",
    "print(t)\n"
   ]
  },
  {
   "cell_type": "code",
   "execution_count": 2,
   "id": "23ea922b",
   "metadata": {},
   "outputs": [
    {
     "name": "stdout",
     "output_type": "stream",
     "text": [
      "\n"
     ]
    }
   ],
   "source": [
    "print()"
   ]
  },
  {
   "cell_type": "code",
   "execution_count": null,
   "id": "77992b6d",
   "metadata": {},
   "outputs": [
    {
     "name": "stdout",
     "output_type": "stream",
     "text": [
      "kishore is a good boy\n"
     ]
    }
   ],
   "source": [
    "list1=[\"kishore\",\"is\",\"a\",\"good\",\"boy\"]\n",
    "s = \"_\".join(list1)\n",
    "print(s)"
   ]
  }
 ],
 "metadata": {
  "kernelspec": {
   "display_name": "Python 3",
   "language": "python",
   "name": "python3"
  },
  "language_info": {
   "codemirror_mode": {
    "name": "ipython",
    "version": 3
   },
   "file_extension": ".py",
   "mimetype": "text/x-python",
   "name": "python",
   "nbconvert_exporter": "python",
   "pygments_lexer": "ipython3",
   "version": "3.10.16"
  }
 },
 "nbformat": 4,
 "nbformat_minor": 5
}
